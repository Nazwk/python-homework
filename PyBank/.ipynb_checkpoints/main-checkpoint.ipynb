{
 "cells": [
  {
   "cell_type": "code",
   "execution_count": 5,
   "id": "1d1d554c-547b-4666-a3ea-e5b47f629e1f",
   "metadata": {
    "tags": []
   },
   "outputs": [],
   "source": [
    "import numpy\n",
    "from pathlib import Path\n",
    "import csv\n",
    "import numpy_financial as nf"
   ]
  },
  {
   "cell_type": "code",
   "execution_count": 9,
   "id": "95c7aee5-2738-4bcb-9938-3f89f6cc17de",
   "metadata": {
    "tags": []
   },
   "outputs": [],
   "source": [
    "csvfile = Path(\"Resources/budget_data.csv\")\n",
    "# access file using Path function"
   ]
  },
  {
   "cell_type": "code",
   "execution_count": 15,
   "id": "ebfbe7f2-8e9d-4cee-8f8e-9710a3edb784",
   "metadata": {
    "tags": []
   },
   "outputs": [
    {
     "name": "stdout",
     "output_type": "stream",
     "text": [
      "<_csv.reader object at 0x10f0fc660>\n"
     ]
    }
   ],
   "source": [
    "# open file as read to access data stored inside the file\n",
    "Count = 0\n",
    "Total = 0\n",
    "with open (csvfile, 'r') as file:\n",
    "    reader = csv.reader(file)\n",
    "    print (reader)\n",
    "    "
   ]
  },
  {
   "cell_type": "code",
   "execution_count": 68,
   "id": "f73f9e70-1f5d-4871-b538-3a563e2ff7f0",
   "metadata": {
    "tags": []
   },
   "outputs": [],
   "source": [
    "# open file as read to access data stored inside the file\n",
    "Count = 0\n",
    "Total = 0\n",
    "last_rev = []\n",
    "profit_dic = {}\n",
    "loss_dic = {}\n",
    "with open (csvfile, 'r') as file:\n",
    "    reader = csv.reader(file)\n",
    "    header = next(reader)\n",
    "    \n",
    "    for pl in reader:\n",
    "        # The total number of months included in the dataset.\n",
    "        Count += 1\n",
    "        Total += int(pl[1])\n",
    "                            \n",
    "    \n"
   ]
  },
  {
   "cell_type": "code",
   "execution_count": 71,
   "id": "1afaf669-989c-436c-ae22-e3ab807923f0",
   "metadata": {
    "tags": []
   },
   "outputs": [
    {
     "name": "stdout",
     "output_type": "stream",
     "text": [
      "Total Months: 86\n",
      "Total: $38382578\n"
     ]
    }
   ],
   "source": [
    "print (f\"Total Months: {Count}\")\n",
    "print (f\"Total: ${Total}\")"
   ]
  },
  {
   "cell_type": "code",
   "execution_count": 65,
   "id": "9a962995-ee6d-4327-9c3a-ea10a2fa8ac5",
   "metadata": {
    "tags": []
   },
   "outputs": [
    {
     "name": "stdout",
     "output_type": "stream",
     "text": [
      "The greatest increase in profits was 1926159.0 and it occurred in Feb-2012.\n"
     ]
    }
   ],
   "source": [
    "#Greatest Increase\n",
    "greatest_increase = 0\n",
    "date_of_greatest_increase = \"\"\n",
    "\n",
    "# Initialize a variable to hold the profit/loss value of the previous row\n",
    "previous_value = None\n",
    "\n",
    "\n",
    "with open (csvfile, 'r') as file:\n",
    "    reader = csv.DictReader(file)\n",
    "    \n",
    "    # Loop through each row in the file\n",
    "    for row in reader:\n",
    "        # Convert the Profit/Losses value to float\n",
    "        current_value = float(row['Profit/Losses'])\n",
    "        \n",
    "        # Skip the first row for difference calculation\n",
    "        if previous_value is not None:\n",
    "            # Calculate the increase in profit\n",
    "            increase = current_value - previous_value\n",
    "            \n",
    "            # Update the greatest increase and associated date if the current increase is greater\n",
    "            if increase > greatest_increase:\n",
    "                greatest_increase = increase\n",
    "                date_of_greatest_increase = row['Date']\n",
    "        \n",
    "        # Update the previous value for the next iteration\n",
    "        previous_value = current_value\n",
    "\n",
    "print(f\"The greatest increase in profits was {greatest_increase} and it occurred in {date_of_greatest_increase}.\")\n"
   ]
  },
  {
   "cell_type": "code",
   "execution_count": 66,
   "id": "00e4f6ca-5917-4b23-97dc-ab3d83ffd9b5",
   "metadata": {
    "tags": []
   },
   "outputs": [
    {
     "name": "stdout",
     "output_type": "stream",
     "text": [
      "The greatest decrease in losses was -2196167.0 and occurred on Sep-2013.\n"
     ]
    }
   ],
   "source": [
    "#Greatest Decrease\n",
    "\n",
    "# Initialize variables to hold the greatest decrease in losses and the associated date\n",
    "greatest_decrease = 0\n",
    "date_of_greatest_decrease = \"\"\n",
    "\n",
    "# Initialize a variable to hold the profit/loss value of the previous row\n",
    "previous_value = None\n",
    "\n",
    "# Replace 'path/to/your/csvfile.csv' with the actual path to your CSV file\n",
    "with open (csvfile, 'r') as file:\n",
    "    reader = csv.DictReader(file)\n",
    "    \n",
    "    # Loop through each row in the file\n",
    "    for row in reader:\n",
    "        # Convert the Profit/Losses value to float\n",
    "        current_value = float(row['Profit/Losses'])\n",
    "        \n",
    "        # Skip the first row for difference calculation\n",
    "        if previous_value is not None:\n",
    "            # Calculate the change in profit\n",
    "            change = current_value - previous_value\n",
    "            \n",
    "            # Check if this change is the greatest decrease so far\n",
    "            if change < greatest_decrease:\n",
    "                greatest_decrease = change\n",
    "                date_of_greatest_decrease = row['Date']\n",
    "        \n",
    "        # Update the previous value for the next iteration\n",
    "        previous_value = current_value\n",
    "\n",
    "print(f\"The greatest decrease in losses was {greatest_decrease} and occurred on {date_of_greatest_decrease}.\")\n"
   ]
  },
  {
   "cell_type": "code",
   "execution_count": 67,
   "id": "3ed97395-eaf2-4d7c-9383-7a6b81a94df0",
   "metadata": {
    "tags": []
   },
   "outputs": [
    {
     "name": "stdout",
     "output_type": "stream",
     "text": [
      "The average of the changes in Profit/Losses is -2315.12.\n"
     ]
    }
   ],
   "source": [
    "# * The average of the changes in Profit/Losses over the entire period.\n",
    "# import csv\n",
    "\n",
    "# Initialize variables to hold the sum of changes and the count of changes\n",
    "sum_of_changes = 0\n",
    "count_of_changes = 0\n",
    "\n",
    "# Initialize a variable to hold the profit/loss value of the previous row\n",
    "previous_value = None\n",
    "\n",
    "# Replace 'path/to/your/csvfile.csv' with the actual path to your CSV file\n",
    "with open (csvfile, 'r') as file:\n",
    "    reader = csv.DictReader(file)\n",
    "    \n",
    "    # Loop through each row in the file\n",
    "    for row in reader:\n",
    "        # Convert the Profit/Losses value to float\n",
    "        current_value = float(row['Profit/Losses'])\n",
    "        \n",
    "        # Skip the first row for difference calculation\n",
    "        if previous_value is not None:\n",
    "            # Calculate the change in profit\n",
    "            change = current_value - previous_value\n",
    "            \n",
    "            # Update the sum and count of changes\n",
    "            sum_of_changes += change\n",
    "            count_of_changes += 1\n",
    "        \n",
    "        # Update the previous value for the next iteration\n",
    "        previous_value = current_value\n",
    "\n",
    "# Calculate the average change\n",
    "average_change = round(sum_of_changes / count_of_changes, 2)\n",
    "\n",
    "print(f\"The average of the changes in Profit/Losses is {average_change}.\")\n",
    "\n",
    "\n",
    "\n"
   ]
  }
 ],
 "metadata": {
  "kernelspec": {
   "display_name": "Python 3 (ipykernel)",
   "language": "python",
   "name": "python3"
  },
  "language_info": {
   "codemirror_mode": {
    "name": "ipython",
    "version": 3
   },
   "file_extension": ".py",
   "mimetype": "text/x-python",
   "name": "python",
   "nbconvert_exporter": "python",
   "pygments_lexer": "ipython3",
   "version": "3.10.12"
  }
 },
 "nbformat": 4,
 "nbformat_minor": 5
}
